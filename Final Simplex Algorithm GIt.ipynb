{
 "cells": [
  {
   "cell_type": "markdown",
   "metadata": {},
   "source": [
    "# Matrix Entries"
   ]
  },
  {
   "cell_type": "markdown",
   "metadata": {},
   "source": [
    "# A"
   ]
  },
  {
   "cell_type": "code",
   "execution_count": null,
   "metadata": {},
   "outputs": [],
   "source": [
    "import numpy as np                                    #A-CONSTRAINT MATRIX\n",
    "m=int(input(\"Eneter the number of rows\"))\n",
    "n=int(input(\"Enter the number of columns\"))\n",
    "A=[]\n",
    "for i in range(m):\n",
    "    a=[]\n",
    "    for j in range(n):  #generating each row\n",
    "        b=float(input(\"Enter the element(row={},col={}) of the constraint matrix\".format(i+1,j+1)))\n",
    "        a.append(b)\n",
    "    A.append(a)         #attaching each row to the matrix A\n",
    "A=np.asarray(A)\n",
    "print(A)"
   ]
  },
  {
   "cell_type": "code",
   "execution_count": null,
   "metadata": {},
   "outputs": [],
   "source": [
    "x=int(input(\"Eneter the number of rows for H=\"))\n",
    "H=[]\n",
    "for i in range(x):\n",
    "    h=[]\n",
    "    for j in range(n):  #generating each row\n",
    "        b=float(input(\"Enter the element(row={},col={}) of the constraint matrix\".format(i+1,j+1)))\n",
    "        h.append(b)\n",
    "    H.append(h)         #attaching each row to the matrix H\n",
    "H=np.asarray(H)\n",
    "print(H)"
   ]
  },
  {
   "cell_type": "markdown",
   "metadata": {},
   "source": [
    "### b"
   ]
  },
  {
   "cell_type": "code",
   "execution_count": null,
   "metadata": {},
   "outputs": [],
   "source": [
    "b=[]                                                   #B-SOLUTION MARTIX\n",
    "for i in range(m):\n",
    "    bc=[]\n",
    "    z=float(input(\"Enter the elements of b=\"))\n",
    "    bc.append(z)\n",
    "    b.append(bc)\n",
    "b=np.array(b)    \n",
    "b=b.reshape((m,1))\n",
    "print(b)"
   ]
  },
  {
   "cell_type": "code",
   "execution_count": null,
   "metadata": {},
   "outputs": [],
   "source": [
    "d=[]                                                   #B-SOLUTION MARTIX\n",
    "for i in range(x):\n",
    "    bc=[]\n",
    "    z=float(input(\"Enter the elements of b\"))\n",
    "    bc.append(z)\n",
    "    d.append(bc)\n",
    "d=np.array(d)    \n",
    "d=d.reshape((x,1))\n",
    "print(d)"
   ]
  },
  {
   "cell_type": "markdown",
   "metadata": {},
   "source": [
    "# c"
   ]
  },
  {
   "cell_type": "code",
   "execution_count": null,
   "metadata": {},
   "outputs": [],
   "source": [
    "c=[]                                                 #OBJECTICVE FUNCTION\n",
    "for i in range(n): #n elements in objective function\n",
    "    h=float(input(\"Enter the coefficents of the objective function\"))\n",
    "    c.append(h)\n",
    "c=np.asarray(c)        \n",
    "print(c)"
   ]
  },
  {
   "cell_type": "markdown",
   "metadata": {},
   "source": [
    "#### bfs1"
   ]
  },
  {
   "cell_type": "code",
   "execution_count": null,
   "metadata": {},
   "outputs": [],
   "source": [
    "bsf=[]                                           #Input the first BFS\n",
    "for i in range(n): #n elements in bsf\n",
    "    s=float(input(\"Enter the element of BSF1\"))\n",
    "    bsf.append(s)"
   ]
  },
  {
   "cell_type": "code",
   "execution_count": null,
   "metadata": {},
   "outputs": [],
   "source": [
    "slack=[]              #adding slacks to A\n",
    "for i in range(m):\n",
    "    subslack=[]\n",
    "    for j in range(m):\n",
    "        if i==j:\n",
    "            subslack.append(1)\n",
    "        else:\n",
    "            subslack.append(0)\n",
    "    slack.append(subslack) \n",
    "slack=np.asarray(slack)\n",
    "print(A,slack)\n",
    "A=np.append(A, slack, axis=1)\n",
    "H=np.array(H)       #H integration with A\n",
    "dh=H.shape\n",
    "z=dh[0]\n",
    "duh=[]\n",
    "for i in range(z):\n",
    "    forh=[]\n",
    "    for j in range(m): #old 'm' should be used here\n",
    "        forh.append(0)\n",
    "    duh.append(forh) \n",
    "duh=np.asarray(duh)    \n",
    "H=np.append(H,duh,axis=1)\n",
    "H=np.asarray(H)\n",
    "A=np.asarray(A)\n",
    "A=np.append(A,H,axis=0)\n",
    "print(A)\n",
    "b=np.append(b,d,axis=0)\n",
    "d=A.shape\n",
    "m1=d[0]\n",
    "n1=d[1]\n",
    "    "
   ]
  },
  {
   "cell_type": "code",
   "execution_count": null,
   "metadata": {},
   "outputs": [],
   "source": [
    "def gaussianeleminaiton(A):\n",
    "    z=max(m,n)\n",
    "    for i in range(z):\n",
    "        x=A[i,i]\n",
    "        if x==0:                         # shuffling rows to get pivot on top.\n",
    "            for j in range(i+1,m):\n",
    "                if A[j,i]!=0:\n",
    "                    A=list(A)\n",
    "                    A[i],A[j]=A[j],A[i]\n",
    "                    A=np.asarray(A)\n",
    "                    x=A[i,i]\n",
    "        for col in range(n):             #First operation 1st element to 1\n",
    "            A[i,col]=A[i,col]/x\n",
    "        for row in range(i+1,m):           #[1,0]=0\n",
    "            y=A[row,i]/A[i,i]\n",
    "            for col in range(n):\n",
    "                A[row,col]=A[row,col]-(y*A[i,col])\n",
    "            \n",
    "d=A.shape\n",
    "m1=d[0]\n",
    "n1=d[1]"
   ]
  },
  {
   "cell_type": "code",
   "execution_count": null,
   "metadata": {},
   "outputs": [],
   "source": [
    "print(m1,n1)\n",
    "slacka=[]              #adding slacks to A\n",
    "for i in range(m1):\n",
    "    subslack=[]\n",
    "    for j in range(m1):\n",
    "        if i==j:\n",
    "            subslack.append(1)\n",
    "        else:\n",
    "            subslack.append(0)\n",
    "    slacka.append(subslack) \n",
    "slacka=np.asarray(slacka)\n",
    "A=np.append(A, slacka, axis=1)\n",
    "d=A.shape\n",
    "m=d[0]\n",
    "n=d[1]\n",
    "print(m)"
   ]
  },
  {
   "cell_type": "code",
   "execution_count": null,
   "metadata": {},
   "outputs": [],
   "source": [
    "print(A,b)"
   ]
  },
  {
   "cell_type": "code",
   "execution_count": null,
   "metadata": {},
   "outputs": [],
   "source": [
    "for i in range(m):   #ensuring positivity of auxiallary lp\n",
    "    if b[i]<0:\n",
    "        b[i]=((-1)*b[i])\n",
    "        for j in range(n):\n",
    "            A[i,j]=((-1)*A[i,j])\n",
    "print(A,b,m,n)            "
   ]
  },
  {
   "cell_type": "code",
   "execution_count": null,
   "metadata": {},
   "outputs": [],
   "source": [
    "print(m,m1)\n",
    "absf=[]\n",
    "for i in range(n):\n",
    "    if i<=n1-1:\n",
    "        absf.append(0)\n",
    "    else:\n",
    "        absf.append(1)\n",
    "print(abfs)\n",
    "absf=np.asarray(absf)"
   ]
  },
  {
   "cell_type": "code",
   "execution_count": null,
   "metadata": {},
   "outputs": [],
   "source": [
    "c=[]\n",
    "for i in range(n):\n",
    "    if i<=n1-1:\n",
    "        c.append(0)\n",
    "    else:\n",
    "        c.append(1)\n",
    "print(c)\n",
    "c=np.asarray(c)"
   ]
  },
  {
   "cell_type": "markdown",
   "metadata": {},
   "source": [
    "# Pivot Max coefficient"
   ]
  },
  {
   "cell_type": "code",
   "execution_count": null,
   "metadata": {},
   "outputs": [],
   "source": [
    "def pivotmax(A,b,c,bsf):\n",
    "    cb=[]                                          #Reduced cost coefficient elements\n",
    "    cn=[]\n",
    "    B=[]\n",
    "    N=[]\n",
    "    crindex=[]\n",
    "    crindexb=[]\n",
    "    count=0\n",
    "    counter=0\n",
    "    for i in range(n): #getting the indices of the basic and non basic variables\n",
    "        if bsf[i]==0:\n",
    "            crindex.append(i)  #indexes of non basic variables from A matrix\n",
    "            cn.append(c[i])   \n",
    "            N.append(A[:,i])\n",
    "            count=count+1\n",
    "        else:\n",
    "            crindexb.append(i)\n",
    "            cb.append(c[i])\n",
    "            B.append(A[:,i])\n",
    "            counter=counter+1\n",
    "    cb=np.asarray(cb) #cb\n",
    "    cn=np.asarray(cn) #cn\n",
    "    B=np.asarray(B)  #B\n",
    "    B=B.transpose()\n",
    "    N=np.asarray(N) #N\n",
    "    N=N.transpose()\n",
    "    \n",
    "    Binv=np.linalg.inv(B)#Binverse       #developing the reduced cost square coefficeint\n",
    "    cbBi=np.matmul(cb, Binv)\n",
    "    cr2=np.matmul(cbBi, N)#cb*Binverse*N\n",
    "    cr=np.subtract(cn,cr2) #FINAL CR\n",
    "    \n",
    "    counter=0\n",
    "    for i in cr:                        #OPTIMALITY CHECK\n",
    "        if i<=0:\n",
    "            counter=counter+1\n",
    "    if counter==n-m:       #number of elements in cr = n-m\n",
    "        ofv1=np.matmul(cb,Binv)\n",
    "        ofv=np.matmul(ofv1,b)\n",
    "        print(\"this is the optimal bsf, the bsf is \", bsf, \"the objective funstion value is\", ofv)\n",
    "        x=\"optimal\"\n",
    "        return x\n",
    "    \n",
    "        \n",
    "    check=[]                    #UNBOUNDEDNESS CHECK\n",
    "    for i in range(n-m):       #range=n-m beacuse of the number of elements in RCCV \n",
    "        if cr[i]>=0:\n",
    "            kr=N[:,i].reshape(m,1)\n",
    "            count=0\n",
    "            unbv=np.matmul(Binv,kr)#Binv*Kr is a m*1 matrix\n",
    "            for i in unbv:\n",
    "                if i<=0:\n",
    "                    count=count+1\n",
    "                    if count==m: #checking if all elements in unbv are negetive\n",
    "                        check.append(1)\n",
    "                \n",
    "    if len(check)>0:    #checking if atleast one of Binv*Kr is negetive                           \n",
    "        x=\"unbounded\"\n",
    "        return x  \n",
    "        \n",
    "        \n",
    "    crl=list(cr)\n",
    "    q=max(crl)      \n",
    "    o=crl.index(q)    #index of max cr\n",
    "    v=crindex[o]#finding the index (v) of the variable that will be turning from non basic to basic \n",
    "    shiftn=A[:,v]\n",
    "    shiftn=np.reshape(shiftn,(m,1)) #the vector being used while shifting\n",
    "      \n",
    "    \n",
    "    Binvb=np.matmul(Binv,b)\n",
    "    Binvshiftn=np.matmul(Binv, shiftn)\n",
    "    newxb=np.subtract(Binvb,Binvshiftn)\n",
    "    \n",
    "    \n",
    "    comp=list(Binvb-newxb) #selecting the new bsf\n",
    "    newxbl=list(newxb)\n",
    "    Binvbl=list(Binvb)\n",
    "    for i in range(m):\n",
    "        if comp[i]>0 and newxbl[i]==min(newxbl):\n",
    "            h=i  #index of the basic variable that will be turnig non basic.\n",
    "            break\n",
    "        else:\n",
    "            continue\n",
    "    \n",
    "    j=crindexb[h]\n",
    "    bsf=list(bsf)\n",
    "    bsf[v]=1\n",
    "    bsf[j]=0\n",
    "    print(cr)\n",
    "    print(bsf)\n",
    "    pivotmax(A,b,c,bsf)\n",
    "    \n",
    "            \n",
    "            \n",
    "\n",
    "    \n",
    "    "
   ]
  },
  {
   "cell_type": "markdown",
   "metadata": {},
   "source": [
    "# Pivot Bland"
   ]
  },
  {
   "cell_type": "code",
   "execution_count": null,
   "metadata": {},
   "outputs": [],
   "source": [
    "def pivotbland(A,b,c,bsf):\n",
    "    cb=[]                                          #Reduced cost coefficient elements\n",
    "    cn=[]\n",
    "    B=[]\n",
    "    N=[]\n",
    "    crindex=[]\n",
    "    crindexb=[]\n",
    "    count=0\n",
    "    counter=0\n",
    "    for i in range(n): #getting the indices of the basic and non basic variables\n",
    "        if bsf[i]==0:\n",
    "            crindex.append(i)  #indexes of non basic variables from A matrix\n",
    "            cn.append(c[i])   \n",
    "            N.append(A[:,i])\n",
    "            count=count+1\n",
    "        else:\n",
    "            crindexb.append(i)\n",
    "            cb.append(c[i])\n",
    "            B.append(A[:,i])\n",
    "            counter=counter+1\n",
    "    cb=np.asarray(cb) #cb\n",
    "    cn=np.asarray(cn) #cn\n",
    "    B=np.asarray(B)  #B\n",
    "    B=B.transpose()\n",
    "    N=np.asarray(N) #N\n",
    "    N=N.transpose()\n",
    "    \n",
    "    Binv=np.linalg.inv(B)#Binverse       #developing the reduced cost square coefficeint\n",
    "    cbBi=np.matmul(cb, Binv)\n",
    "    cr2=np.matmul(cbBi, N)#cb*Binverse*N\n",
    "    cr=np.subtract(cn,cr2) #FINAL CR\n",
    "    \n",
    "    counter=0\n",
    "    for i in cr:                        #OPTIMALITY CHECK\n",
    "        if i<=0:\n",
    "            counter=counter+1\n",
    "    if counter==n-m:       #number of elements in cr = n-m\n",
    "        ofv1=np.matmul(cb,Binv)\n",
    "        ofv=np.matmul(ofv1,b)\n",
    "        print(\"this is the optimal bsf, the bsf is \", bsf, \"the objective funstion value is\", ofv)\n",
    "        x=\"optimal\"\n",
    "        return x\n",
    "    \n",
    "        \n",
    "    check=[]                    #UNBOUNDEDNESS CHECK\n",
    "    for i in range(n-m):       #range=n-m beacuse of the number of elements in RCCV \n",
    "        if cr[i]>=0:\n",
    "            kr=N[:,i].reshape(m,1)\n",
    "            print(\"kr\",kr)\n",
    "            count=0\n",
    "            unbv=np.matmul(Binv,kr)#Binv*Kr is a m*1 matrix\n",
    "            for i in unbv:\n",
    "                if i<=0:\n",
    "                    count=count+1\n",
    "                    if count==m: #checking if all elements in unbv are negetive\n",
    "                        check.append(1)\n",
    "                \n",
    "    if len(check)>0:    #checking if atleast one of Binv*Kr is negetive                           \n",
    "        x=\"unbounded\"\n",
    "        return x  \n",
    "        \n",
    "        \n",
    "    crl=list(cr)\n",
    "    for i in range(n-m):\n",
    "        if crl[i]>0:\n",
    "            o=i\n",
    "            break\n",
    "    v=crindex[o]#finding the index (v) of the variable that will be turning from non basic to basic \n",
    "    shiftn=A[:,v]\n",
    "    shiftn=np.reshape(shiftn,(m,1)) #the vector being used while shifting\n",
    "      \n",
    "    \n",
    "    Binvb=np.matmul(Binv,b)\n",
    "    Binvshiftn=np.matmul(Binv, shiftn)\n",
    "    newxb=np.subtract(Binvb,Binvshiftn)\n",
    "    print(\"Binvb\", Binvb)\n",
    "    print(\"newxb\", newxb)\n",
    "    \n",
    "    \n",
    "    comp=list(Binvb-newxb) #selecting the new bsf\n",
    "    newxbl=list(newxb)\n",
    "    Binvbl=list(Binvb)\n",
    "    for i in range(m):\n",
    "        if comp[i]>0 and newxbl[i]==min(newxbl):\n",
    "            print(comp[i])\n",
    "            h=i  #index of the basic variable that will be turnig non basic.\n",
    "            break\n",
    "        else:\n",
    "            continue\n",
    "    \n",
    "    j=crindexb[h]\n",
    "    bsf=list(bsf)\n",
    "    bsf[v]=1\n",
    "    bsf[j]=0\n",
    "    print(cr)\n",
    "    print(bsf)\n",
    "    pivotbland(A,b,c,bsf)\n",
    "    \n",
    "            \n",
    "            \n",
    "\n",
    "    \n",
    "    "
   ]
  },
  {
   "cell_type": "markdown",
   "metadata": {},
   "source": [
    "# functions run here"
   ]
  },
  {
   "cell_type": "code",
   "execution_count": null,
   "metadata": {},
   "outputs": [],
   "source": [
    "pivotbland(A,b,c,bsf)"
   ]
  },
  {
   "cell_type": "code",
   "execution_count": null,
   "metadata": {},
   "outputs": [],
   "source": [
    "pivotmax(A,b,c,bsf)"
   ]
  },
  {
   "cell_type": "code",
   "execution_count": null,
   "metadata": {},
   "outputs": [],
   "source": []
  },
  {
   "cell_type": "code",
   "execution_count": null,
   "metadata": {},
   "outputs": [],
   "source": []
  }
 ],
 "metadata": {
  "kernelspec": {
   "display_name": "Python 3",
   "language": "python",
   "name": "python3"
  },
  "language_info": {
   "codemirror_mode": {
    "name": "ipython",
    "version": 3
   },
   "file_extension": ".py",
   "mimetype": "text/x-python",
   "name": "python",
   "nbconvert_exporter": "python",
   "pygments_lexer": "ipython3",
   "version": "3.7.1"
  }
 },
 "nbformat": 4,
 "nbformat_minor": 2
}
